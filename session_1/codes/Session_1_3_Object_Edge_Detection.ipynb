{
  "cells": [
    {
      "cell_type": "code",
      "execution_count": 1,
      "metadata": {
        "id": "EEC2jYWNyUHs"
      },
      "outputs": [],
      "source": [
        "import cv2\n",
        "import numpy as np\n",
        "import matplotlib.pyplot as plt"
      ]
    },
    {
      "cell_type": "code",
      "execution_count": null,
      "metadata": {
        "id": "agoQKRELyjpy"
      },
      "outputs": [],
      "source": [
        "img = cv2.imread('/content/rice.png')\n",
        "gray_img = cv2.cvtColor(img, cv2.COLOR_BGR2GRAY)\n",
        "blurred_img = cv2.GaussianBlur(gray_img, (5, 5), 0)\n",
        "plt.imshow(gray_img, cmap='gray')"
      ]
    },
    {
      "cell_type": "markdown",
      "source": [
        "## Apply Sobel Filter to compute horizontal and vertical gradient"
      ],
      "metadata": {
        "id": "i2ZACvXgt3AR"
      }
    },
    {
      "cell_type": "code",
      "source": [
        "sobelx = cv2.Sobel(blurred_img, cv2.CV_64F, 1, 0, ksize=3)\n",
        "sobely = cv2.Sobel(blurred_img, cv2.CV_64F, 0, 1, ksize=3)"
      ],
      "metadata": {
        "id": "70hxZPYhuUMe"
      },
      "execution_count": null,
      "outputs": []
    },
    {
      "cell_type": "markdown",
      "source": [
        "## Calulate gradient magnitude and apply threshold"
      ],
      "metadata": {
        "id": "sdnXevNEudIU"
      }
    },
    {
      "cell_type": "code",
      "source": [
        "grad_mag = np.sqrt(sobelx**2 + sobely**2)\n",
        "#thresh, _ = cv2.threshold(blurred_img, 0, 255, cv2.THRESH_BINARY + cv2.THRESH_OTSU)\n",
        "sobel_edge = np.uint8(grad_mag>120)*255\n",
        "plt.imshow(sobel_edge,cmap='gray')"
      ],
      "metadata": {
        "id": "e-XeaBzOucPC"
      },
      "execution_count": null,
      "outputs": []
    },
    {
      "cell_type": "markdown",
      "metadata": {
        "id": "dwWf_Wrezi0j"
      },
      "source": [
        "## Apply Canny Edge Detection"
      ]
    },
    {
      "cell_type": "markdown",
      "source": [
        "sobelx = cv2.Sobel(blurred,cv2.CV_64F"
      ],
      "metadata": {
        "id": "MbA8Tl3nt84T"
      }
    },
    {
      "cell_type": "code",
      "execution_count": null,
      "metadata": {
        "id": "HE2q3uAazd3e"
      },
      "outputs": [],
      "source": [
        "edges = cv2.Canny(gray_img, 100, 200)\n",
        "plt.imshow(edges)"
      ]
    }
  ],
  "metadata": {
    "colab": {
      "provenance": []
    },
    "kernelspec": {
      "display_name": "Python 3",
      "name": "python3"
    },
    "language_info": {
      "name": "python"
    }
  },
  "nbformat": 4,
  "nbformat_minor": 0
}
