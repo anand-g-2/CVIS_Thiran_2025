{
  "cells": [
    {
      "cell_type": "markdown",
      "metadata": {
        "id": "0xE5HvE4ZE6o"
      },
      "source": [
        "## Import required libraries"
      ]
    },
    {
      "cell_type": "code",
      "execution_count": null,
      "metadata": {
        "id": "jmZchOeoXvOG"
      },
      "outputs": [],
      "source": [
        "import cv2\n",
        "import numpy as np\n",
        "import matplotlib.pyplot as plt"
      ]
    },
    {
      "cell_type": "markdown",
      "metadata": {
        "id": "FERoa2r0ZPql"
      },
      "source": [
        "## Read the input image"
      ]
    },
    {
      "cell_type": "code",
      "execution_count": null,
      "metadata": {
        "id": "KRMp3-fUXv5R"
      },
      "outputs": [],
      "source": [
        "img = cv2.imread('/content/coins.jpg')\n",
        "rgb_image = cv2.cvtColor(img, cv2.COLOR_BGR2RGB)\n",
        "plt.imshow(rgb_image)"
      ]
    },
    {
      "cell_type": "markdown",
      "metadata": {
        "id": "5JXlzgMtZUNc"
      },
      "source": [
        "## Convert to gray scale image"
      ]
    },
    {
      "cell_type": "code",
      "execution_count": null,
      "metadata": {
        "id": "v6-DBBAWY4AX"
      },
      "outputs": [],
      "source": [
        "gray_img = cv2.cvtColor(img, cv2.COLOR_BGR2GRAY)\n",
        "blurred_img = cv2.GaussianBlur(gray_img, (5, 5), 0)\n",
        "plt.imshow(blurred_img, cmap='gray')"
      ]
    },
    {
      "cell_type": "markdown",
      "metadata": {
        "id": "4vRwSq3wroqC"
      },
      "source": [
        "## Plot the histogram of the blurred image"
      ]
    },
    {
      "cell_type": "code",
      "execution_count": null,
      "metadata": {
        "id": "9PkyMFFbZyku"
      },
      "outputs": [],
      "source": [
        "plt.hist(blurred_img.ravel(), bins=256, range=[0, 256], color='black', alpha=0.7)"
      ]
    },
    {
      "cell_type": "markdown",
      "metadata": {
        "id": "ILNBBhVQsbLn"
      },
      "source": [
        "## Perform thresholding to segment the coins"
      ]
    },
    {
      "cell_type": "code",
      "execution_count": null,
      "metadata": {
        "id": "LFB0TZIvsPia"
      },
      "outputs": [],
      "source": [
        "threshold_value = 120\n",
        "_, thresholded_image = cv2.threshold(blurred_img, threshold_value, 255, cv2.THRESH_BINARY_INV)\n",
        "plt.imshow(thresholded_image, cmap='gray')"
      ]
    },
    {
      "cell_type": "markdown",
      "metadata": {
        "id": "ed31tjawtYK5"
      },
      "source": [
        "## Perform thresholding with OTSU's method"
      ]
    },
    {
      "cell_type": "code",
      "execution_count": null,
      "metadata": {
        "id": "W8EFU6UIte8Q"
      },
      "outputs": [],
      "source": [
        "(thresh, otsu_thresholded_image) = cv2.threshold(blurred_img, 0, 255,\n",
        "                                                 cv2.THRESH_BINARY_INV + cv2.THRESH_OTSU)\n",
        "print(thresh)\n",
        "plt.imshow(otsu_thresholded_image, cmap='gray')"
      ]
    },
    {
      "cell_type": "markdown",
      "metadata": {
        "id": "GngzvVDGvprL"
      },
      "source": [
        "## Perform thresholding with adaptive thresholding method"
      ]
    },
    {
      "cell_type": "code",
      "execution_count": null,
      "metadata": {
        "id": "PkvlKUXVvvzV"
      },
      "outputs": [],
      "source": [
        "adaptive_thresholded_image = cv2.adaptiveThreshold(blurred_img, 255,\n",
        "                                        cv2.ADAPTIVE_THRESH_MEAN_C,\n",
        "                                        cv2.THRESH_BINARY_INV,\n",
        "                                        11, 2)\n",
        "plt.imshow(adaptive_thresholded_image, cmap='gray')"
      ]
    },
    {
      "cell_type": "markdown",
      "metadata": {},
      "source": [
        "## Apply Morphological Processing to remove noise"
      ]
    },
    {
      "cell_type": "code",
      "execution_count": null,
      "metadata": {},
      "outputs": [],
      "source": [
        "kernel = np.ones((3, 3), np.uint8)\n",
        "morph_open = cv2.morphologyEx(adaptive_thresholded_image, cv2.MORPH_OPEN, kernel)\n",
        "plt.imshow(morph_open,cmap='gray')"
      ]
    }
  ],
  "metadata": {
    "colab": {
      "provenance": []
    },
    "kernelspec": {
      "display_name": "Python 3",
      "name": "python3"
    },
    "language_info": {
      "name": "python"
    }
  },
  "nbformat": 4,
  "nbformat_minor": 0
}
