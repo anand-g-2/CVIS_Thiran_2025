{
  "nbformat": 4,
  "nbformat_minor": 0,
  "metadata": {
    "colab": {
      "provenance": []
    },
    "kernelspec": {
      "name": "python3",
      "display_name": "Python 3"
    },
    "language_info": {
      "name": "python"
    }
  },
  "cells": [
    {
      "cell_type": "markdown",
      "source": [
        "## **Import required libraries**"
      ],
      "metadata": {
        "id": "M5J48WGXj-rX"
      }
    },
    {
      "cell_type": "code",
      "execution_count": null,
      "metadata": {
        "id": "tUhgNLz3dPjU"
      },
      "outputs": [],
      "source": [
        "import cv2\n",
        "from google.colab.patches import cv2_imshow"
      ]
    },
    {
      "cell_type": "markdown",
      "source": [
        "## **Read and display the image**"
      ],
      "metadata": {
        "id": "1QP00yRCkDXV"
      }
    },
    {
      "cell_type": "code",
      "source": [
        "img = cv2.imread('/content/lena.png')\n",
        "# cv2.imshow('Lena Image',img)\n",
        "cv2_imshow(img)"
      ],
      "metadata": {
        "id": "ufG9dHD1nKID"
      },
      "execution_count": null,
      "outputs": []
    },
    {
      "cell_type": "markdown",
      "source": [
        "## **Image Properties**"
      ],
      "metadata": {
        "id": "2GzyNR0Ao0HK"
      }
    },
    {
      "cell_type": "code",
      "source": [
        "print(\"Size of the image:\",img.size)\n",
        "print(\"Shape of the image:\",img.shape)\n",
        "print(\"Data type of the image:\",img.dtype)"
      ],
      "metadata": {
        "id": "AyETAbcVo4cs"
      },
      "execution_count": null,
      "outputs": []
    },
    {
      "cell_type": "markdown",
      "source": [
        "## **Colorspace conversion**\n",
        "Three prdeominantly used image types based on colorspace:\n",
        "\n",
        "1. RGB Images\n",
        "2. Gryascale Images\n",
        "3. Black and White Images"
      ],
      "metadata": {
        "id": "MkPFqRxzon2_"
      }
    },
    {
      "cell_type": "markdown",
      "source": [
        "### RGB Images\n",
        "\n",
        "\n",
        "*   Composed of 3 different color planes: Red, Blue, and Green\n",
        "*   Each individual plane is composed of pixel values ranging from 0 to 255\n",
        "\n",
        "*   Different intensities of the three colors combine to produce variety of colours\n",
        "\n",
        "\n",
        "\n"
      ],
      "metadata": {
        "id": "e-EIKEygsn45"
      }
    },
    {
      "cell_type": "markdown",
      "source": [
        "### Array Slicing\n",
        "Slicing template: m:n+1\n",
        "\n",
        "m --> starting index\n",
        "n--> ending index\n"
      ],
      "metadata": {
        "id": "DoTd5pVBrU23"
      }
    },
    {
      "cell_type": "code",
      "source": [
        "print(\"Blue Plane:\")\n",
        "print(img[:3,:3,0])\n",
        "print(\"Green Plane:\")\n",
        "print(img[:3,:3,1])\n",
        "print(\"Red Plane:\")\n",
        "print(img[:3,:3,2])"
      ],
      "metadata": {
        "id": "nk8rWMOCrN9i"
      },
      "execution_count": null,
      "outputs": []
    },
    {
      "cell_type": "markdown",
      "source": [
        "### Grayscale Conversion"
      ],
      "metadata": {
        "id": "OnKp6sj-tqOP"
      }
    },
    {
      "cell_type": "code",
      "source": [
        "img_gray = cv2.cvtColor(img,cv2.COLOR_BGR2GRAY)\n",
        "print(\"Shape of the image:\",img_gray.shape)\n",
        "print(img_gray[:3,:3])\n",
        "cv2_imshow(img_gray)"
      ],
      "metadata": {
        "id": "NFOxOiAqn2w4"
      },
      "execution_count": null,
      "outputs": []
    },
    {
      "cell_type": "markdown",
      "source": [
        "### Black and White conversion"
      ],
      "metadata": {
        "id": "1_Am24N1uLRd"
      }
    },
    {
      "cell_type": "code",
      "source": [
        "img_bw = img_gray.copy()\n",
        "img_bw[img_bw>127] = 255\n",
        "img_bw[img_bw<=127] = 0\n",
        "print(img_bw[:3,:3])\n",
        "cv2_imshow(img_bw)"
      ],
      "metadata": {
        "id": "Axsvh3yeuUIe"
      },
      "execution_count": null,
      "outputs": []
    },
    {
      "cell_type": "markdown",
      "source": [
        "## **Writing Images**"
      ],
      "metadata": {
        "id": "lbGeA9nZw0tQ"
      }
    },
    {
      "cell_type": "code",
      "source": [
        "cv2.imwrite('/content/lena_gray.png',img_gray)\n",
        "cv2.imwrite('/content/lena_bw.png',img_bw)"
      ],
      "metadata": {
        "id": "fZyAQlh3xBzw"
      },
      "execution_count": null,
      "outputs": []
    }
  ]
}
