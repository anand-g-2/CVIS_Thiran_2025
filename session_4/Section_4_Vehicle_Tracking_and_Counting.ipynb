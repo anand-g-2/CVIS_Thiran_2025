{
  "cells": [
    {
      "cell_type": "code",
      "execution_count": null,
      "metadata": {
        "id": "Hpd_UayXML5X"
      },
      "outputs": [],
      "source": [
        "!git clone https://github.com/levan92/deep_sort_realtime"
      ]
    },
    {
      "cell_type": "code",
      "execution_count": null,
      "metadata": {
        "id": "7n-fxZMiWLWs"
      },
      "outputs": [],
      "source": [
        "!pip install ultralytics"
      ]
    },
    {
      "cell_type": "code",
      "execution_count": null,
      "metadata": {
        "id": "2lSlDk8vtKuh"
      },
      "outputs": [],
      "source": [
        "!pip install -r /content/deep_sort_realtime/requirements.txt"
      ]
    },
    {
      "cell_type": "code",
      "execution_count": 1,
      "metadata": {
        "id": "5FMFV8uvgwwb"
      },
      "outputs": [],
      "source": [
        "!mv /content/deep_sort_realtime/deep_sort_realtime/* /content/deep_sort_realtime/\n",
        "!rm -r /content/deep_sort_realtime/deep_sort_realtime"
      ]
    },
    {
      "cell_type": "code",
      "execution_count": null,
      "metadata": {
        "id": "OUqMjd8KsHWO"
      },
      "outputs": [],
      "source": [
        "%cd /content/deep_sort_realtime/"
      ]
    },
    {
      "cell_type": "code",
      "execution_count": null,
      "metadata": {
        "id": "PjAohffZP2QV"
      },
      "outputs": [],
      "source": [
        "import cv2\n",
        "import numpy as np\n",
        "from deep_sort_realtime.deepsort_tracker import DeepSort\n",
        "from ultralytics import YOLO"
      ]
    },
    {
      "cell_type": "markdown",
      "metadata": {
        "id": "qFfR1cRoYM7G"
      },
      "source": [
        "## Define a function to detect objects with YOLO"
      ]
    },
    {
      "cell_type": "code",
      "execution_count": 4,
      "metadata": {
        "id": "jJgsn3pTXVhl"
      },
      "outputs": [],
      "source": [
        "def detect_vehicle(model, frame, target_classes):\n",
        "    result = model(frame, verbose=False)[0]\n",
        "    detections = []\n",
        "    for box in result.boxes:\n",
        "        class_id = int(box.cls[0])\n",
        "        confidence = float(box.conf[0])\n",
        "        if class_id in target_classes:\n",
        "            x1, y1, x2, y2 = box.xyxy[0].tolist()\n",
        "            w = x2 - x1\n",
        "            h = y2 - y1\n",
        "            if w * h > (frame.shape[1] * frame.shape[0] * 0.001):\n",
        "                class_name = target_classes[class_id]\n",
        "                detection = ([x1, y1, w, h], confidence, class_name)\n",
        "                detections.append(detection)\n",
        "    return detections"
      ]
    },
    {
      "cell_type": "markdown",
      "metadata": {
        "id": "FeGR2_HgbTaj"
      },
      "source": [
        "## Create a video capture object and display the video properties\n",
        "\n",
        "Possible sources for video capture:\n",
        "\n",
        "0 → Default webcam\n",
        "\n",
        "1, 2, etc. → Other cameras\n",
        "\n",
        "\"video.mp4\" → File path\n",
        "\n",
        "URL → IP camera URL"
      ]
    },
    {
      "cell_type": "code",
      "execution_count": null,
      "metadata": {
        "id": "XsZm4jfbQBDF"
      },
      "outputs": [],
      "source": [
        "cap = cv2.VideoCapture('/content/road_traffic.mp4')\n",
        "frame_width = int(cap.get(cv2.CAP_PROP_FRAME_WIDTH))\n",
        "frame_height = int(cap.get(cv2.CAP_PROP_FRAME_HEIGHT))\n",
        "fps = cap.get(cv2.CAP_PROP_FPS)\n",
        "print(f'Frame Resoultion: {frame_width} x {frame_height}')\n",
        "print(f'Frame Rate: {int(fps)}fps')"
      ]
    },
    {
      "cell_type": "markdown",
      "metadata": {
        "id": "poVRY1sZb_8i"
      },
      "source": [
        "## Initialize the YOLO model, DeepSORT tracker and target classes"
      ]
    },
    {
      "cell_type": "code",
      "execution_count": 54,
      "metadata": {
        "id": "9Iq7ysJFb_J5"
      },
      "outputs": [],
      "source": [
        "model = YOLO('yolov8n.pt',verbose=False)\n",
        "tracker = DeepSort(max_age=15,\n",
        "                   n_init = 4,\n",
        "                   nms_max_overlap = 0.7,\n",
        "                   max_cosine_distance = 0.3,\n",
        "                   )\n",
        "target_classes = {2: 'car', 5: 'bus', 7: 'truck'}"
      ]
    },
    {
      "cell_type": "markdown",
      "metadata": {
        "id": "x2hEKIPjwG6q"
      },
      "source": [
        "## Create a writer object for saving output video"
      ]
    },
    {
      "cell_type": "code",
      "execution_count": 55,
      "metadata": {
        "id": "mLZUUJN0wGbg"
      },
      "outputs": [],
      "source": [
        "fourcc = cv2.VideoWriter_fourcc(*'XVID')\n",
        "out = cv2.VideoWriter('/content/vehicle_track.mp4', fourcc, fps, (frame_width, frame_height))"
      ]
    },
    {
      "cell_type": "markdown",
      "source": [
        "## Detect and count vehicles without tracking"
      ],
      "metadata": {
        "id": "zH3CoYIS-ai6"
      }
    },
    {
      "cell_type": "code",
      "execution_count": 46,
      "metadata": {
        "id": "EbIiCJ9RB3E4"
      },
      "outputs": [],
      "source": [
        "vehicle_count = 0\n",
        "while True:\n",
        "    ret, og_frame = cap.read()\n",
        "    if not ret:\n",
        "        break\n",
        "    try:\n",
        "        frame = og_frame.copy()\n",
        "        detections = detect_vehicle(model,frame,target_classes)\n",
        "        for detection in detections:\n",
        "          vehicle_count+=1\n",
        "          bbox, confidence, class_name = detection\n",
        "          x1, y1, w, h = map(int, bbox)\n",
        "          cv2.rectangle(frame, (x1, y1), (x1+w, y1+h), (0, 0, 255), 1)\n",
        "          cv2.putText(frame, class_name, (x1, y1-10),\n",
        "                      cv2.FONT_HERSHEY_SIMPLEX, 1, (0, 0, 255), 2)\n",
        "          cv2.putText(frame, f'vehicle_count: {vehicle_count}', (10,30),\n",
        "                      cv2.FONT_HERSHEY_SIMPLEX, 1, (0, 0, 255), 2)\n",
        "        out.write(frame)\n",
        "    except Exception as e:\n",
        "        print(f\"A broader error occurred: {e}\")\n",
        "        break  # Or handle the error as needed\n",
        "out.release()\n",
        "cap.release()"
      ]
    },
    {
      "cell_type": "markdown",
      "source": [
        "## Detect and count vehicles with tracking"
      ],
      "metadata": {
        "id": "aMV1SvkW-hre"
      }
    },
    {
      "cell_type": "code",
      "source": [
        "vehicle_count = 0\n",
        "tracked_ids = set() # Keep track of counted vehicle IDs\n",
        "while True:\n",
        "    ret, og_frame = cap.read()\n",
        "    if not ret:\n",
        "        break\n",
        "    try:\n",
        "        frame = og_frame.copy()\n",
        "        detections = detect_vehicle(model,frame,target_classes)\n",
        "        tracks = tracker.update_tracks(detections, frame=frame)\n",
        "\n",
        "        for track in tracks:\n",
        "            if not track.is_confirmed():\n",
        "                continue\n",
        "\n",
        "            track_id = track.track_id\n",
        "            if track_id not in tracked_ids:  # Check if track ID is new\n",
        "                vehicle_count += 1\n",
        "                tracked_ids.add(track_id)  # Add track ID to the set\n",
        "\n",
        "            bbox = track.to_ltrb()\n",
        "            class_id = track.get_det_class()\n",
        "            confidence = track.get_det_conf()\n",
        "            x1, y1, x2, y2 = map(int, bbox)\n",
        "            cv2.rectangle(frame, (x1, y1), (x2, y2), (0, 0, 255), 1)\n",
        "            cv2.putText(frame, f'{track_id}:{class_id}', (x1, y1 - 10),\n",
        "                        cv2.FONT_HERSHEY_SIMPLEX, 1, (0, 0, 255), 2)\n",
        "\n",
        "        cv2.putText(frame, f'vehicle_count: {vehicle_count}', (10, 30),\n",
        "                    cv2.FONT_HERSHEY_SIMPLEX, 1, (0, 0, 255), 2)\n",
        "        out.write(frame)\n",
        "    except Exception as e:\n",
        "        print(f\"A broader error occurred: {e}\")\n",
        "        break  # Or handle the error as needed\n",
        "out.release()\n",
        "cap.release()"
      ],
      "metadata": {
        "id": "wCc2oYZ07GJ-"
      },
      "execution_count": 56,
      "outputs": []
    }
  ],
  "metadata": {
    "accelerator": "GPU",
    "colab": {
      "gpuType": "T4",
      "provenance": []
    },
    "kernelspec": {
      "display_name": "Python 3",
      "name": "python3"
    },
    "language_info": {
      "name": "python"
    }
  },
  "nbformat": 4,
  "nbformat_minor": 0
}