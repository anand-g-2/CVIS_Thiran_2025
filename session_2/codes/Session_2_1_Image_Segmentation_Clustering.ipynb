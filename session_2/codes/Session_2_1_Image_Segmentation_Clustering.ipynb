{
  "nbformat": 4,
  "nbformat_minor": 0,
  "metadata": {
    "colab": {
      "provenance": []
    },
    "kernelspec": {
      "name": "python3",
      "display_name": "Python 3"
    },
    "language_info": {
      "name": "python"
    }
  },
  "cells": [
    {
      "cell_type": "code",
      "execution_count": 3,
      "metadata": {
        "id": "QEdYb2ZxveKR"
      },
      "outputs": [],
      "source": [
        "import cv2\n",
        "import numpy as np\n",
        "import matplotlib.pyplot as plt\n",
        "from sklearn.cluster import KMeans"
      ]
    },
    {
      "cell_type": "code",
      "source": [
        "image = cv2.imread(\"coloredChips.png\")  # Replace with your image file\n",
        "image = cv2.cvtColor(image, cv2.COLOR_BGR2RGB)  # Convert from BGR to RGB\n",
        "plt.imshow(image)"
      ],
      "metadata": {
        "id": "9MiVUhXGuT5a"
      },
      "execution_count": 4,
      "outputs": []
    },
    {
      "cell_type": "code",
      "source": [
        "image.shape"
      ],
      "metadata": {
        "id": "dAF92aw3ukaH"
      },
      "execution_count": null,
      "outputs": []
    },
    {
      "cell_type": "markdown",
      "source": [
        "## Reshape the Image into a 2D Array of Pixels"
      ],
      "metadata": {
        "id": "8QXwA1vIudhv"
      }
    },
    {
      "cell_type": "code",
      "source": [
        "pixels = image.reshape((-1, 3))\n",
        "pixels = np.float32(pixels)\n",
        "pixels.shape"
      ],
      "metadata": {
        "id": "U7240hkCupTa"
      },
      "execution_count": null,
      "outputs": []
    },
    {
      "cell_type": "markdown",
      "source": [
        "### Apply k-means with k=7"
      ],
      "metadata": {
        "id": "ZvCNr3YGvKYS"
      }
    },
    {
      "cell_type": "code",
      "source": [
        "kmeans = KMeans(n_clusters=7, random_state=42, n_init=10)\n",
        "labels = kmeans.fit_predict(pixels)\n",
        "labels.shape"
      ],
      "metadata": {
        "id": "rcgSx9JVu3VH"
      },
      "execution_count": null,
      "outputs": []
    },
    {
      "cell_type": "markdown",
      "source": [
        "## Reshape cluster labels back to image dimension"
      ],
      "metadata": {
        "id": "QIVE78ivvpNK"
      }
    },
    {
      "cell_type": "code",
      "source": [
        "segmented_image = kmeans.cluster_centers_[labels].reshape(image.shape)\n",
        "segmented_image = np.uint8(segmented_image)\n",
        "plt.imshow(segmented_image)"
      ],
      "metadata": {
        "id": "IcXk0NOyvwBj"
      },
      "execution_count": null,
      "outputs": []
    },
    {
      "cell_type": "markdown",
      "source": [
        "## Determine the optimal value of k with elbow method"
      ],
      "metadata": {
        "id": "UYfPCMBtwTgF"
      }
    },
    {
      "cell_type": "code",
      "source": [
        "inertia_values = []\n",
        "k_range = range(1, 11)\n",
        "for k in k_range:\n",
        "    kmeans = KMeans(n_clusters=k, random_state=42, n_init=10)\n",
        "    kmeans.fit(pixels)\n",
        "    inertia_values.append(kmeans.inertia_)\n",
        "plt.plot(k_range, inertia_values, marker=\"o\")\n",
        "plt.xlabel(\"Number of Clusters (K)\")\n",
        "plt.ylabel(\"Inertia (Sum of Squared Distances)\")\n",
        "plt.title(\"Elbow Method to Determine Optimal K\")\n",
        "plt.show()"
      ],
      "metadata": {
        "id": "6ljYxMumwXCM"
      },
      "execution_count": null,
      "outputs": []
    }
  ]
}