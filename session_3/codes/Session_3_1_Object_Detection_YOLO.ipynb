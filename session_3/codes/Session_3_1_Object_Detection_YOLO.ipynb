{
  "nbformat": 4,
  "nbformat_minor": 0,
  "metadata": {
    "colab": {
      "provenance": []
    },
    "kernelspec": {
      "name": "python3",
      "display_name": "Python 3"
    },
    "language_info": {
      "name": "python"
    }
  },
  "cells": [
    {
      "cell_type": "code",
      "source": [
        "!pip install ultralytics"
      ],
      "metadata": {
        "id": "aGsmjMYQB-M5"
      },
      "execution_count": null,
      "outputs": []
    },
    {
      "cell_type": "code",
      "execution_count": null,
      "metadata": {
        "id": "N1eY-kUBygza"
      },
      "outputs": [],
      "source": [
        "import cv2\n",
        "import numpy as np\n",
        "from ultralytics import YOLO\n",
        "import matplotlib.pyplot as plt"
      ]
    },
    {
      "cell_type": "markdown",
      "source": [
        "## Load the YOLOv8 model"
      ],
      "metadata": {
        "id": "4mfSinTVCzck"
      }
    },
    {
      "cell_type": "code",
      "source": [
        "model = YOLO(\"yolov8n.pt\")"
      ],
      "metadata": {
        "id": "K8-u7yx6CuUX"
      },
      "execution_count": null,
      "outputs": []
    },
    {
      "cell_type": "markdown",
      "source": [
        "## Read and display the input image"
      ],
      "metadata": {
        "id": "KewXREA9DRic"
      }
    },
    {
      "cell_type": "code",
      "source": [
        "image = cv2.imread('/content/football.png')\n",
        "rgb_image = cv2.cvtColor(image, cv2.COLOR_BGR2RGB)\n",
        "plt.imshow(rgb_image)"
      ],
      "metadata": {
        "id": "RnGhJdLADH1t"
      },
      "execution_count": null,
      "outputs": []
    },
    {
      "cell_type": "markdown",
      "source": [
        "# Apply YOLO model and print the results"
      ],
      "metadata": {
        "id": "w1LHVYbkEQsD"
      }
    },
    {
      "cell_type": "code",
      "source": [
        "results = model(image)\n",
        "results[0].boxes"
      ],
      "metadata": {
        "id": "De1vwBsyDkGC"
      },
      "execution_count": null,
      "outputs": []
    },
    {
      "cell_type": "markdown",
      "source": [
        "## Draw bounding box around objects and display class label over them"
      ],
      "metadata": {
        "id": "AiGsVSO3FVCs"
      }
    },
    {
      "cell_type": "code",
      "source": [
        "rgb_copy = rgb_image.copy()\n",
        "for i, box in enumerate(results[0].boxes.xyxy): # Get bounding boxes\n",
        "        x1, y1, x2, y2 = map(int, box)  # Convert to integer coordinates\n",
        "        confidence = results[0].boxes.conf[i].item()  # Confidence score\n",
        "        class_id = int(results[0].boxes.cls[i].item())  # Class index\n",
        "        label = f\"{results[0].names[class_id]}: {confidence:.2f}\"  # Label text\n",
        "        # Draw bounding box\n",
        "        cv2.rectangle(rgb_copy, (x1, y1), (x2, y2), (255,0,0), 2)\n",
        "\n",
        "        # Put label text\n",
        "        cv2.putText(rgb_copy, label, (x1, y1 - 10), cv2.FONT_HERSHEY_SIMPLEX, 0.5, (255,0, 0), 2)\n",
        "plt.imshow(rgb_copy)"
      ],
      "metadata": {
        "id": "TYtT4HtPFSrb"
      },
      "execution_count": null,
      "outputs": []
    }
  ]
}