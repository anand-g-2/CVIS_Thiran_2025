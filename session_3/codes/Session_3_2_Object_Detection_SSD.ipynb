{
  "nbformat": 4,
  "nbformat_minor": 0,
  "metadata": {
    "colab": {
      "provenance": []
    },
    "kernelspec": {
      "name": "python3",
      "display_name": "Python 3"
    },
    "language_info": {
      "name": "python"
    }
  },
  "cells": [
    {
      "cell_type": "code",
      "execution_count": 30,
      "metadata": {
        "id": "8l1KQ0pKjRNn"
      },
      "outputs": [],
      "source": [
        "import cv2\n",
        "import matplotlib.pyplot as plt\n",
        "import numpy"
      ]
    },
    {
      "cell_type": "markdown",
      "source": [
        "## Get the path for model config file as well as model weights"
      ],
      "metadata": {
        "id": "fLx1Itd4yYLV"
      }
    },
    {
      "cell_type": "code",
      "source": [
        "config = '/content/ssd_mobilenet_v3_large_coco_2020_01_14.pbtxt'\n",
        "model = '/content/ssd_mobilenet_v3_large_coco_2020_01_14/frozen_inference_graph.pb'\n",
        "coco_labels = '/content/coco.names'"
      ],
      "metadata": {
        "id": "gwDuzqhnjcbS"
      },
      "execution_count": 31,
      "outputs": []
    },
    {
      "cell_type": "markdown",
      "source": [
        "## Define the model and get the pretrained labels"
      ],
      "metadata": {
        "id": "pJDxio00yjFY"
      }
    },
    {
      "cell_type": "code",
      "source": [
        "model = cv2.dnn_DetectionModel(model, config)\n",
        "classlabels = []\n",
        "with open(coco_labels, 'rt') as f:\n",
        "  classlabels = f.read().rstrip('\\n').split('\\n')"
      ],
      "metadata": {
        "id": "X_mXovK-jhh-"
      },
      "execution_count": 32,
      "outputs": []
    },
    {
      "cell_type": "markdown",
      "source": [
        "## Read and display the input image"
      ],
      "metadata": {
        "id": "eMB71LQPyo6C"
      }
    },
    {
      "cell_type": "code",
      "source": [
        "image_path = '/content/car_person.jpg'\n",
        "img = cv2.imread(image_path)\n",
        "rgb_image = cv2.cvtColor(img, cv2.COLOR_BGR2RGB)\n",
        "plt.imshow(rgb_image)"
      ],
      "metadata": {
        "id": "jEIpVahWyKCf"
      },
      "execution_count": null,
      "outputs": []
    },
    {
      "cell_type": "markdown",
      "source": [
        "## Provide the model configurations"
      ],
      "metadata": {
        "id": "kurMOBbWy2NG"
      }
    },
    {
      "cell_type": "code",
      "source": [
        "model.setInputSize(320,320)\n",
        "model.setInputScale(1.0/127.5)\n",
        "model.setInputMean((127.5,127.5,127.5))\n",
        "model.setInputSwapRB(True)"
      ],
      "metadata": {
        "id": "JpMYQBRwy5Rp"
      },
      "execution_count": null,
      "outputs": []
    },
    {
      "cell_type": "markdown",
      "source": [
        "## Make detections and draw bounding boxes"
      ],
      "metadata": {
        "id": "zkNP12eJzgij"
      }
    },
    {
      "cell_type": "code",
      "source": [
        "class_ids, confidences, boxes = model.detect(img, confThreshold=0.5)\n",
        "class_ids"
      ],
      "metadata": {
        "id": "CPb_6cP7zc3S"
      },
      "execution_count": null,
      "outputs": []
    },
    {
      "cell_type": "code",
      "source": [
        "display_image = rgb_image.copy()\n",
        "for class_id, confidence, box in zip(class_ids, confidences, boxes):\n",
        "    x, y, w, h = box\n",
        "    label = classlabels[class_id-1]\n",
        "    print(label)\n",
        "    cv2.rectangle(display_image, (x,y), (x+w, y+h), color=(0,255,0), thickness=2)\n",
        "    cv2.putText(display_image, label, (x,y-10), cv2.FONT_HERSHEY_SIMPLEX, 0.5, (0,255,0), 2 )\n",
        "\n",
        "plt.imshow(display_image)"
      ],
      "metadata": {
        "id": "vg9spkdP0BvA"
      },
      "execution_count": null,
      "outputs": []
    }
  ]
}